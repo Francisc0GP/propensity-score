{
 "cells": [
  {
   "cell_type": "code",
   "execution_count": 1,
   "metadata": {},
   "outputs": [],
   "source": [
    "import pandas as pd\n",
    "import warnings "
   ]
  },
  {
   "cell_type": "code",
   "execution_count": 2,
   "metadata": {},
   "outputs": [],
   "source": [
    "def read_data():\n",
    "    df = pd.read_csv('datasets\\SetRegexFin.csv')\n",
    "    df_edociv = pd.read_csv('datasets\\CatEstadoCivil.csv')\n",
    "    df_escolar = pd.read_csv('datasets\\CatEscolaridad.csv')\n",
    "    df_estrato = pd.read_csv('datasets\\CatEstratoSocial.csv')\n",
    "    df_ocupacion = pd.read_csv('datasets\\CatOcupacion.csv')\n",
    "    df_EstadosEUA = pd.read_csv('datasets\\EstadosEUA.csv')\n",
    "    return df, df_edociv, df_escolar, df_estrato, df_ocupacion, df_EstadosEUA"
   ]
  },
  {
   "cell_type": "code",
   "execution_count": 3,
   "metadata": {},
   "outputs": [],
   "source": [
    "def mod_bin (df):\n",
    "    df['ComunidadIndigena'] = df['ComunidadIndigena'].fillna('No').map({'Si': 1, 'No': 0})\n",
    "    df['DiscapacidadPerceptual'] = df['DiscapacidadPerceptual'].fillna('No').map({'Si': 1, 'No': 0})\n",
    "    df['Migracion'] = df['Migracion'].fillna('No').map({'Si': 1, 'No': 0})\n",
    "\n",
    "    return df"
   ]
  },
  {
   "cell_type": "code",
   "execution_count": 4,
   "metadata": {},
   "outputs": [],
   "source": [
    "def mod_data(df, df_edociv,df_escolar, df_estrato, df_ocupacion, df_EstadosEUA):\n",
    "    df['EstadoCivil'] = df['EstadoCivil'].map(dict(zip(df_edociv['Descripcion'], df_edociv['ComunId'])))\n",
    "    df['Escolaridad'] = df['Escolaridad'].map(dict(zip(df_escolar['Descripcion'], df_escolar['ComunId'])))\n",
    "    df['NivSocioEco'] = df['NivSocioEco'].map(dict(zip(df_estrato['Descripcion'], df_estrato['ComunId'])))\n",
    "    df['Ocupacion'] = df['Ocupacion'].map(dict(zip(df_ocupacion['Descripcion'], df_ocupacion['ComunId'])))\n",
    "    #df['EstadoEUA'] = df['EstadoEUA'].map(dict(zip(df_EstadosEUA['Descripcion'], df_EstadosEUA['ComunId'])))\n",
    "    df = mod_bin(df)\n",
    "    return df\n",
    "    "
   ]
  },
  {
   "cell_type": "code",
   "execution_count": 5,
   "metadata": {},
   "outputs": [],
   "source": [
    "def main():\n",
    "    df, df_edociv , df_escolar, df_estrato, df_ocupacion, df_EstadoEUA= read_data()\n",
    "    df = mod_data(df, df_edociv, df_escolar, df_estrato, df_ocupacion, df_EstadoEUA)\n",
    "    df.to_csv('Results-moddataset\\datamod.csv', index=False)"
   ]
  },
  {
   "cell_type": "code",
   "execution_count": 6,
   "metadata": {},
   "outputs": [],
   "source": [
    "warnings.filterwarnings(\"ignore\")\n",
    "main()"
   ]
  }
 ],
 "metadata": {
  "kernelspec": {
   "display_name": ".venv",
   "language": "python",
   "name": "python3"
  },
  "language_info": {
   "codemirror_mode": {
    "name": "ipython",
    "version": 3
   },
   "file_extension": ".py",
   "mimetype": "text/x-python",
   "name": "python",
   "nbconvert_exporter": "python",
   "pygments_lexer": "ipython3",
   "version": "3.11.0"
  }
 },
 "nbformat": 4,
 "nbformat_minor": 2
}
