{
 "cells": [
  {
   "cell_type": "code",
   "execution_count": 1,
   "metadata": {},
   "outputs": [],
   "source": [
    "import pandas as pd"
   ]
  },
  {
   "cell_type": "code",
   "execution_count": 2,
   "metadata": {},
   "outputs": [],
   "source": [
    "def read_data():\n",
    "    df = pd.read_csv('datasets\\SetRegexFin.csv')\n",
    "    df_edociv = pd.read_csv('datasets\\CatEstadoCivil.csv')\n",
    "    df_escolar = pd.read_csv('datasets\\CatEscolaridad.csv')\n",
    "    df_estrato = pd.read_csv('datasets\\CatEstratoSocial.csv')\n",
    "    df_ocupacion = pd.read_csv('datasets\\CatOcupacion.csv')\n",
    "    return df, df_edociv, df_escolar, df_estrato, df_ocupacion"
   ]
  },
  {
   "cell_type": "code",
   "execution_count": 3,
   "metadata": {},
   "outputs": [],
   "source": [
    "def mod_bin (df):\n",
    "    df['ComunidadIndigena'] = df['ComunidadIndigena'].fillna('No').map({'Si': 1, 'No': 0})\n",
    "    df['DiscapacidadPerceptual'] = df['DiscapacidadPerceptual'].fillna('No').map({'Si': 1, 'No': 0})\n",
    "    df['Migracion'] = df['Migracion'].fillna('No').map({'Si': 1, 'No': 0})\n",
    "    return df"
   ]
  },
  {
   "cell_type": "code",
   "execution_count": 4,
   "metadata": {},
   "outputs": [],
   "source": [
    "def mod_data(df, df_edociv,df_escolar, df_estrato, df_ocupacion):\n",
    "    df['EstadoCivil'] = df['EstadoCivil'].map(dict(zip(df_edociv['Descripcion'], df_edociv['ComunId'])))\n",
    "    df['Escolaridad'] = df['Escolaridad'].map(dict(zip(df_escolar['Descripcion'], df_escolar['ComunId'])))\n",
    "    df['NivSocioEco'] = df['NivSocioEco'].map(dict(zip(df_estrato['Descripcion'], df_estrato['ComunId'])))\n",
    "    df['Ocupacion'] = df['Ocupacion'].map(dict(zip(df_ocupacion['Descripcion'], df_ocupacion['ComunId'])))\n",
    "    df = mod_bin(df)\n",
    "    return df\n",
    "    "
   ]
  },
  {
   "cell_type": "code",
   "execution_count": 5,
   "metadata": {},
   "outputs": [],
   "source": [
    "def main():\n",
    "    df, df_edociv , df_escolar, df_estrato, df_ocupacion = read_data()\n",
    "    df = mod_data(df, df_edociv, df_escolar, df_estrato, df_ocupacion)\n",
    "    df.to_csv('Results-moddataset\\datamod.csv', index=False)"
   ]
  },
  {
   "cell_type": "code",
   "execution_count": 6,
   "metadata": {},
   "outputs": [
    {
     "name": "stderr",
     "output_type": "stream",
     "text": [
      "C:\\Users\\lonje\\AppData\\Local\\Temp\\ipykernel_10372\\2439561417.py:2: DtypeWarning: Columns (11,12,13,17,18,19,20,23,24,25,26,27,28,29,30,32,33,34,35,102,103,105,106,107,108,110,111,112,113,115,116,117,118,120,121,122,123,125,126,141,143,144,145,147,148,149,151,152,153,155,156,157,159,160,163,164,165,168,176,177,179,180,181,182,184,185,186,187,189,190,191,192,194,195,196,197,199,200,201,202,204,205,206,207,209,210,213,231,232,234,254,314,324,334,344,374,384,404,414,424,434,444,454,464,484,494,504,514,534,544,554,564,584,594,604,614,634,644,654,664,694,704,714,724,764,774,784,794,804,814,824,834,844,854,864,874,884,894,904,914,924,934,944,954,964,974,984,994,1004,1014,1024,1034,1044,1054) have mixed types. Specify dtype option on import or set low_memory=False.\n",
      "  df = pd.read_csv('datasets\\SetRegexFin.csv')\n"
     ]
    }
   ],
   "source": [
    "main()"
   ]
  }
 ],
 "metadata": {
  "kernelspec": {
   "display_name": ".venv",
   "language": "python",
   "name": "python3"
  },
  "language_info": {
   "codemirror_mode": {
    "name": "ipython",
    "version": 3
   },
   "file_extension": ".py",
   "mimetype": "text/x-python",
   "name": "python",
   "nbconvert_exporter": "python",
   "pygments_lexer": "ipython3",
   "version": "3.11.0"
  }
 },
 "nbformat": 4,
 "nbformat_minor": 2
}
