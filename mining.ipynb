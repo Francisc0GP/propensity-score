{
 "cells": [
  {
   "cell_type": "code",
   "execution_count": 1,
   "metadata": {},
   "outputs": [],
   "source": [
    "import pandas as pd\n",
    "import re\n",
    "import warnings"
   ]
  },
  {
   "cell_type": "code",
   "execution_count": 2,
   "metadata": {},
   "outputs": [],
   "source": [
    "def read_data():\n",
    "    df = pd.read_csv('Results-propensityscore\\matched_dataset.csv')\n",
    "    df2 = pd.read_csv('datasets\\prob_aso.csv')\n",
    "    df = df.merge(df2, on='FolioId')\n",
    "    return df"
   ]
  },
  {
   "cell_type": "code",
   "execution_count": 3,
   "metadata": {},
   "outputs": [],
   "source": [
    "def read_regex():\n",
    "    mental = pd.read_csv('datasets\\setregextrastornos.csv')\n",
    "    mental2 = pd.read_csv('datasets\\setregextrastornos2.csv')\n",
    "    comorb = pd.read_csv('datasets\\setregex_comorb.csv')\n",
    "    antfam = pd.read_csv('datasets\\setregex_antfam.csv')\n",
    "    return mental , mental2 , comorb , antfam"
   ]
  },
  {
   "cell_type": "code",
   "execution_count": 4,
   "metadata": {},
   "outputs": [],
   "source": [
    "def applyregex(row, regex):\n",
    "    \"\"\"\n",
    "    Apply a regex to a row\n",
    "    param: row, regex\n",
    "    return: boolean\n",
    "    \"\"\"\n",
    "    return any(re.search(regex,str(value))for value in row if value is not None)"
   ]
  },
  {
   "cell_type": "code",
   "execution_count": 5,
   "metadata": {},
   "outputs": [],
   "source": [
    "def list_to_drop(df):\n",
    "    \"\"\"\n",
    "    Create a list of columns to drop\n",
    "    param: df\n",
    "    return: list\n",
    "    \"\"\"\n",
    "    drop = []\n",
    "    for col in df.columns:\n",
    "        if col.startswith('Diag_TRS_Eje1CodigoCompuesto') or col.startswith('Diag_TRS_Eje2CodigoCompuesto'):\n",
    "            drop.append(col)\n",
    "    return drop"
   ]
  },
  {
   "cell_type": "code",
   "execution_count": 6,
   "metadata": {},
   "outputs": [],
   "source": [
    "def clear_dataset(df):\n",
    "    \"\"\"\n",
    "    Clear the dataset\n",
    "    param: df\n",
    "    return: df\n",
    "    \"\"\"\n",
    "    df = df.drop(columns = list_to_drop(df))\n",
    "    return df"
   ]
  },
  {
   "cell_type": "code",
   "execution_count": 7,
   "metadata": {},
   "outputs": [],
   "source": [
    "def minertext (df, df_regex_mental, df_regex_mental2, df_comorb, df_antfam):\n",
    "    \"\"\"\n",
    "    Apply regex to a DataFrame\n",
    "    param: df_DataFrame, df_DataFrames\n",
    "    return: df_DataFrame\n",
    "    \"\"\"\n",
    "    \n",
    "    #for idx, row in df_regex_mental.iterrows():\n",
    "    #    regex = row['regex']\n",
    "    #    new_colum = row['varname']\n",
    "    #    df[new_colum] = df.apply(lambda row: applyregex(row,regex), axis=1).astype(int)\n",
    "\n",
    "    \n",
    "    #for idx, row in df_regex_mental2.iterrows():\n",
    "    #    regex = row['regex']\n",
    "    #    new_colum = row['varname']\n",
    "    #    df[new_colum] = df.apply(lambda row: applyregex(row,regex), axis=1).astype(int)\n",
    "\n",
    "    #for idx, row in df_comorb.iterrows():\n",
    "    #    regex = row['regex']\n",
    "    #    new_colum = row['varname']\n",
    "    #    df[new_colum] = df.apply(lambda row: applyregex(row,regex), axis=1).astype(int)\n",
    "\n",
    "    #for idx, row in df_antfam.iterrows():\n",
    "    #    regex = row['regex']\n",
    "    #    new_colum = row['varname']\n",
    "    #    df[new_colum] = df.apply(lambda row: applyregex(row,regex), axis=1).astype(int)    \n",
    "\n",
    "    df = clear_dataset(df)\n",
    "    \n",
    "    return df\n"
   ]
  },
  {
   "cell_type": "code",
   "execution_count": 8,
   "metadata": {},
   "outputs": [],
   "source": [
    "def main():\n",
    "    df = read_data()\n",
    "    df_regex_mental , df_regex_mental2, df_comorb, df_antfam = read_regex()\n",
    "    df = minertext(df, df_regex_mental, df_regex_mental2 , df_comorb, df_antfam)\n",
    "    df.to_csv('Results-mining\\data-minertext.csv', index=False)"
   ]
  },
  {
   "cell_type": "code",
   "execution_count": 9,
   "metadata": {},
   "outputs": [],
   "source": [
    "warnings.filterwarnings(\"ignore\")   \n",
    "main()"
   ]
  }
 ],
 "metadata": {
  "kernelspec": {
   "display_name": ".venv",
   "language": "python",
   "name": "python3"
  },
  "language_info": {
   "codemirror_mode": {
    "name": "ipython",
    "version": 3
   },
   "file_extension": ".py",
   "mimetype": "text/x-python",
   "name": "python",
   "nbconvert_exporter": "python",
   "pygments_lexer": "ipython3",
   "version": "3.11.0"
  }
 },
 "nbformat": 4,
 "nbformat_minor": 2
}
