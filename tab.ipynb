{
 "cells": [
  {
   "cell_type": "code",
   "execution_count": 1,
   "metadata": {},
   "outputs": [],
   "source": [
    "import pandas as pd"
   ]
  },
  {
   "cell_type": "code",
   "execution_count": 8,
   "metadata": {},
   "outputs": [
    {
     "name": "stderr",
     "output_type": "stream",
     "text": [
      "C:\\Users\\lonje\\AppData\\Local\\Temp\\ipykernel_19344\\1677898533.py:1: DtypeWarning: Columns (12,13,17,18,20,23,24,25,26,27,28,29,30,32,33,34,35,102,103,105,106,107,108,110,111,112,113,115,116,117,118,120,121,122,123,125,126,141,143,144,145,147,148,149,151,152,153,155,156,157,159,160,163,164,165,168,176,177,179,180,181,182,184,185,186,187,189,190,191,192,194,195,196,197,199,200,201,202,204,205,206,207,209,210,213,231,232,234,254,314,324,334,344,374,384,404,414,424,434,444,454,464,484,494,504,514,534,544,554,564,584,594,604,614,634,644,654,664,694,704,714,724,764,774,784,794,804,814,824,834,844,854,864,874,884,894,904,914,924,934,944,954,964,974,984,994,1004,1014,1024,1034,1044,1054) have mixed types. Specify dtype option on import or set low_memory=False.\n",
      "  df = pd.read_csv('Results-moddataset/datamod.csv')\n"
     ]
    }
   ],
   "source": [
    "\n",
    "df = pd.read_csv('Results-moddataset/datamod.csv')\n",
    "df_after = df[['FolioId', 'Migracion', 'Edad', 'Sexo', 'EstadoCivil', 'Escolaridad', 'NivSocioEco', 'Ocupacion', 'ComunidadIndigena', 'DiscapacidadPerceptual']]\n",
    "df_matched = pd.read_csv('Results-propensityscore/matched_dataset.csv')"
   ]
  },
  {
   "cell_type": "code",
   "execution_count": null,
   "metadata": {},
   "outputs": [],
   "source": []
  }
 ],
 "metadata": {
  "kernelspec": {
   "display_name": ".venv",
   "language": "python",
   "name": "python3"
  },
  "language_info": {
   "codemirror_mode": {
    "name": "ipython",
    "version": 3
   },
   "file_extension": ".py",
   "mimetype": "text/x-python",
   "name": "python",
   "nbconvert_exporter": "python",
   "pygments_lexer": "ipython3",
   "version": "3.11.0"
  }
 },
 "nbformat": 4,
 "nbformat_minor": 2
}
