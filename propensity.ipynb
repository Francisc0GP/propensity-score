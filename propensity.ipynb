{
 "cells": [
  {
   "cell_type": "code",
   "execution_count": 12,
   "metadata": {},
   "outputs": [],
   "source": [
    "#libraries\n",
    "import pandas as pd\n",
    "import warnings\n",
    "from psmpy import PsmPy\n",
    "from psmpy.functions import cohenD\n",
    "from psmpy.functions import *\n",
    "sns.set(rc={'figure.figsize':(10,8), 'font.size': 1.3})"
   ]
  },
  {
   "cell_type": "code",
   "execution_count": 19,
   "metadata": {},
   "outputs": [],
   "source": [
    "#DataFrames\n",
    "warnings.filterwarnings(\"ignore\")\n",
    "df_dataset = pd.read_csv('datasets/SetRegexFin.csv')\n",
    "df_comorb = pd.read_csv('datasets/regex_comorb.csv')\n",
    "df_antfam = pd.read_csv('datasets/regex_antfam.csv')\n",
    "df_diag = pd.read_csv('datasets/regex_diag.csv')"
   ]
  },
  {
   "cell_type": "code",
   "execution_count": null,
   "metadata": {},
   "outputs": [],
   "source": [
    "def gen_list(df):\n",
    "    list = ['Migracion', 'Edad', 'Sexo', 'EstadoCivil', 'Escolaridad' , 'Ocupacion']\n",
    "    "
   ]
  },
  {
   "cell_type": "code",
   "execution_count": null,
   "metadata": {},
   "outputs": [],
   "source": [
    "def get_psm(df_dataset, listinclude):\n",
    "    psm = PsmPy(df_dataset, treatment= 'Migracion', indx= 'FolioId', include = listinclude)\n",
    "    psm.logistic_ps()\n",
    "    return psm"
   ]
  }
 ],
 "metadata": {
  "kernelspec": {
   "display_name": ".venv",
   "language": "python",
   "name": "python3"
  },
  "language_info": {
   "codemirror_mode": {
    "name": "ipython",
    "version": 3
   },
   "file_extension": ".py",
   "mimetype": "text/x-python",
   "name": "python",
   "nbconvert_exporter": "python",
   "pygments_lexer": "ipython3",
   "version": "3.11.0"
  }
 },
 "nbformat": 4,
 "nbformat_minor": 2
}
