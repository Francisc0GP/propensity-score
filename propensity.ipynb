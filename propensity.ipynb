{
 "cells": [
  {
   "cell_type": "code",
   "execution_count": 47,
   "metadata": {},
   "outputs": [],
   "source": [
    "#libraries\n",
    "import pandas as pd\n",
    "import warnings\n",
    "from psmpy import PsmPy\n",
    "from psmpy.functions import cohenD\n",
    "from psmpy.functions import *\n",
    "sns.set(rc={'figure.figsize':(10,8), 'font.size': 1.3})\n",
    "import re"
   ]
  },
  {
   "cell_type": "code",
   "execution_count": 48,
   "metadata": {},
   "outputs": [],
   "source": [
    "#Read DataFrames\n",
    "warnings.filterwarnings(\"ignore\")\n",
    "df_dataset = pd.read_csv('datasets/SetRegexFin.csv')\n",
    "df_comorb = pd.read_csv('datasets/regex_comorb.csv')\n",
    "df_antfam = pd.read_csv('datasets/regex_antfam.csv')\n",
    "df_diag = pd.read_csv('datasets/regex_diag.csv')\n",
    "df_catescolar = pd.read_csv('datasets/CatEscolaridad.csv')\n",
    "df_catedociv = pd.read_csv('datasets/CatEstadoCivil.csv')\n",
    "df_catlgbt = pd.read_csv('datasets/CatLgbt.csv')\n",
    "df_catEstrato = pd.read_csv('datasets/CatEstratoSocial.csv')\n",
    "df_catocup = pd.read_csv('datasets/CatOcupacion.csv')\n",
    "df_pais = pd.read_csv('datasets/Pais.csv')\n",
    "df_lugnac = pd.read_csv('datasets/LugNac.csv')\n",
    "df_EUA = pd.read_csv('datasets/EstadosEUA.csv')\n",
    "df_cat008 = pd.read_csv('datasets/CatComunMet008.csv')\n",
    "df_nivsoc = pd.read_csv('datasets/CatEstratoSocial.csv')"
   ]
  },
  {
   "cell_type": "code",
   "execution_count": 49,
   "metadata": {},
   "outputs": [],
   "source": [
    "def gen_list(df):\n",
    "    \"\"\"\n",
    "    Generate a list of columns in a DataFrame\n",
    "    param: df_DataFrame\n",
    "    return: list of columns\n",
    "    \"\"\"\n",
    "    listexc = []\n",
    "    list = ['FolioId','Migracion', 'Edad', 'Sexo', 'EstadoCivil', 'Escolaridad' , 'Ocupacion', 'NivSocioEco', 'ComunidadIndigena', 'DiscapacidadPerceptual' ] # Columns to include\n",
    "    for col in df.columns:\n",
    "        if col not in list:\n",
    "            listexc.append(col) # Columns to exclude\n",
    "    return listexc \n",
    "    "
   ]
  },
  {
   "cell_type": "code",
   "execution_count": 50,
   "metadata": {},
   "outputs": [],
   "source": [
    "def get_psm(df_dataset, listinclude):\n",
    "    \"\"\"\n",
    "    Initialize PsmPy Class\n",
    "    param: df_DataFrame, list of columns to exclude\n",
    "    return: psm object\n",
    "    \"\"\"\n",
    "    psm = PsmPy(df_dataset, treatment= 'Migracion', indx= 'FolioId', exclude = listinclude)\n",
    "    psm.logistic_ps()\n",
    "    return psm"
   ]
  },
  {
   "cell_type": "code",
   "execution_count": 51,
   "metadata": {},
   "outputs": [],
   "source": [
    "def moddatagen(df_dataset):\n",
    "    \"\"\"\n",
    "    Modify the DataFrame to be used in the PSM\n",
    "    param: df_DataFrame\n",
    "    return: df_DataFrame modified\n",
    "    \"\"\"\n",
    "    df_dataset['Migracion'] = df_dataset['Migracion'].fillna(0)\n",
    "    df_dataset['Migracion'] = df_dataset['Migracion'].replace('Si', 1)\n",
    "    df_dataset['ComunidadIndigena'] = df_dataset['ComunidadIndigena'].fillna(0)\n",
    "    df_dataset['ComunidadIndigena'] = df_dataset['ComunidadIndigena'].replace('Si', 1)\n",
    "    df_dataset['DiscapacidadPerceptual'] = df_dataset['DiscapacidadPerceptual'].fillna(0)\n",
    "    df_dataset['DiscapacidadPerceptual'] = df_dataset['DiscapacidadPerceptual'].replace('Si', 1)\n",
    "    df_dataset['Migracion']\n",
    "    return df_dataset\n"
   ]
  },
  {
   "cell_type": "code",
   "execution_count": 52,
   "metadata": {},
   "outputs": [],
   "source": [
    "def dict_data (df_catescolar, df_catedociv, df_catlgbt, df_catocup, df_pais, df_nivsoc):\n",
    "    \"\"\"\n",
    "    Generate a dictionary of the categories in the DataFrames\n",
    "    param: df_DataFrames\n",
    "    return: dictionaries\n",
    "    \"\"\"\n",
    "    dict_escolar = dict(zip(df_catescolar['Descripcion'], df_catescolar['ComunId']))\n",
    "    dict_edociv = dict(zip(df_catedociv['Descripcion'], df_catedociv['ComunId']))\n",
    "    dict_lgbt = dict(zip(df_catlgbt['Descripcion'], df_catlgbt['ComunId']))\n",
    "    dict_ocup = dict(zip(df_catocup['Descripcion'], df_catocup['ComunId']))\n",
    "    dict_pais = dict(zip(df_pais['PaisId'], df_pais['Descripcion']))\n",
    "    dict_nivsoc = dict(zip(df_nivsoc['ComunId'], df_nivsoc['Descripcion']))\n",
    "    return dict_escolar, dict_edociv, dict_lgbt, dict_ocup, dict_pais, dict_nivsoc"
   ]
  },
  {
   "cell_type": "code",
   "execution_count": 53,
   "metadata": {},
   "outputs": [],
   "source": [
    "def mod_data (df ,dict_escolar, dict_edociv, dict_lgbt, dict_ocup, dict_pais, dict_nivsoc):\n",
    "    \"\"\"\n",
    "    Modify the DataFrame to be used in the PSM\n",
    "    param: df_DataFrame, dictionaries\n",
    "    return: df_DataFrame modified\n",
    "    \"\"\"\n",
    "    df['Escolaridad'] = df['Escolaridad'].map(dict_escolar)\n",
    "    df['EstadoCivil'] = df['EstadoCivil'].map(dict_edociv)\n",
    "    df['LGBTTTI'] = df['LGBTTTI'].map(dict_lgbt)\n",
    "    df['Ocupacion'] = df['Ocupacion'].map(dict_ocup)\n",
    "    df['PaisNac'] = df['LugarNacimiento'].map(dict_pais)\n",
    "    df['NivSocioEco'] = df['NivSocioEco'].map(dict_nivsoc)\n",
    "    return df\n",
    "    "
   ]
  },
  {
   "cell_type": "code",
   "execution_count": 54,
   "metadata": {},
   "outputs": [],
   "source": [
    "def mod_df (df):\n",
    "    \"\"\"\n",
    "    Modify the DataFrame to be used in the PSM\n",
    "    param: df_DataFrame\n",
    "    return: df_DataFrame modified\n",
    "    \"\"\"\n",
    "    df.drop(columns=['Motivo10', 'Diag_TRS_Eje1ComunNomenclatura_9', 'Diag_TRS_Eje1Previo-Subsecuente_9', 'Diag_TRS_Eje1CodigoCompuesto_9', 'Diag_TRS_Eje1Codigo_9', 'Diag_TRS_Eje1Descripcion_9', 'Diag_TRS_Eje1ComunNomenclatura_10', 'Diag_TRS_Eje1Previo-Subsecuente_10', 'Diag_TRS_Eje1CodigoCompuesto_10', 'Diag_TRS_Eje1Codigo_10', 'Diag_TRS_Eje1Descripcion_10'] , axis=1, inplace=True) # Drop columns\n",
    "    df.drop(columns=['AntecedentesPNPGrupoSanguineo', 'AntecedentesPNPFactorRH', 'TipoAlimentacionSuficienteCantidad', 'TipoAlimentacionSuficienteCalidad', 'TipoAlimentacionAdecuadaCantidad', 'TipoAlimentacionAdecuadaCalidad', 'TipoAlimentacionBalanceadaCantidad', 'TipoAlimentacionBalanceadaCalidad', 'AntecedentesPNPReligion', 'AntecedentesPNPCuales'], axis=1, inplace=True) # Drop columns\n",
    "    df.drop(columns=['PadecimientoActual', 'AntecedentesPadecimiento', 'AntecedentesHFTrastornosSustanciasComunId', 'AntecedentesHFTrastornosSustanciasCuales', 'AnecedentesHFTrastornosMentalesComunId', 'AnecedentesHFTrastornosMentalesCuales', 'AntecedentesHFOtrosComunId', 'AntecedentesHFOtrosCuales', 'VidaFamiliarEscolarLaboralEconomica' , 'AntecedentesSSEdadIVSA','AntecedentesSSNoParejasSexuales', 'AntecedentesSSPracticasSexualesRiesgoCuales', 'AntecedentesSSMetodosAnticonceptivosOtros', 'AntecedentesSSPruebaVIH' ], axis=1, inplace=True) # Drop columns\n",
    "    df.drop(columns=['AntecedentesSSPruebaVIHFecha', 'AntecedentesSSPruebaVIHResultadoComun', 'AntecedentesSSPruebaVHC', 'AntecedentesSSPruebaVHCFecha', 'AntecedentesSSPruebaVHCResultadoComun', 'InterrogatorioASCardiovascularCuales', 'InterrogatorioASDigestivoCuales', 'InterrogatorioASEndocrinoCuales', 'InterrogatorioASHematologicoCuales', 'InterrogatorioASMusculoEsqueleticoCuales', 'InterrogatorioASNerviosoCuales'], axis=1, inplace=True) # Drop columns\n",
    "    df.drop(columns=['InterrogatorioASReproductivoCuales', 'InterrogatorioASRespiratorioCuales', 'InterrogatorioASTegumentarioCuales', 'InterrogatorioASUrinarioCuales', 'InterrogatorioASEspecializadoCuales', 'SignosVitalesPeso', 'SignosVitalesTalla', 'SignosVitalesIMCComunId', 'SignosVitalesFC', 'SignosVitalesFR', 'SignosVitalesPulso', 'SignosVitalesTA', 'SignosVitalesTAhg', 'SignosVitalesTemperatura', 'HCEF_HabitusExterior', 'ExploracionEspecializadaCuales'], axis=1, inplace=True) # Drop columns\n",
    "    for col in df.columns:\n",
    "        reg = re.search(r'Compuesto_\\d', col) \n",
    "        if reg:\n",
    "            df.drop(columns=[col], axis=1, inplace=True) # Drop columns\n",
    "            \n",
    "    for col in df.columns:\n",
    "        if col.startswith('Sust') or col.startswith('EdadI') or col.startswith('Orden') or col.startswith('UsoUlt') or col.startswith('Prime') or col.startswith('Segun') or col.startswith('Tercer') or col.startswith('Abst') or col.startswith('Ulti') or col.startswith('Dosis'):\n",
    "            df.drop(columns=[col], axis=1, inplace=True)# Drop columns\n",
    "\n",
    "    return df"
   ]
  },
  {
   "cell_type": "code",
   "execution_count": 55,
   "metadata": {},
   "outputs": [],
   "source": [
    "def graf_psm(psm):\n",
    "    \"\"\"\n",
    "    Generate a Propensity Score Matching \n",
    "    param: psm object\n",
    "    return: plots\n",
    "    \"\"\"\n",
    "    #psmdata = psm.knn_matched(matcher='propensity_logit', replacement=False, caliper=None, drop_unmatched=True) match 1:1\n",
    "    psmdata = psm.knn_matched_12n(matcher='propensity_logit', how_many= 2) # match 1:N\n",
    "    psm.plot_match(Title='Side by side matched controls', Ylabel='Number of patients', Xlabel='Propensity logit', names = ['Migracion', 'No Migracion'], colors = ['blue', 'red'], save=True)"
   ]
  },
  {
   "cell_type": "code",
   "execution_count": 56,
   "metadata": {},
   "outputs": [
    {
     "data": {
      "text/html": [
       "<div>\n",
       "<style scoped>\n",
       "    .dataframe tbody tr th:only-of-type {\n",
       "        vertical-align: middle;\n",
       "    }\n",
       "\n",
       "    .dataframe tbody tr th {\n",
       "        vertical-align: top;\n",
       "    }\n",
       "\n",
       "    .dataframe thead th {\n",
       "        text-align: right;\n",
       "    }\n",
       "</style>\n",
       "<table border=\"1\" class=\"dataframe\">\n",
       "  <thead>\n",
       "    <tr style=\"text-align: right;\">\n",
       "      <th></th>\n",
       "      <th>FolioId</th>\n",
       "      <th>largerclass_0group</th>\n",
       "      <th>largerclass_1group</th>\n",
       "    </tr>\n",
       "  </thead>\n",
       "  <tbody>\n",
       "    <tr>\n",
       "      <th>0</th>\n",
       "      <td>304773</td>\n",
       "      <td>371985</td>\n",
       "      <td>368960</td>\n",
       "    </tr>\n",
       "    <tr>\n",
       "      <th>1</th>\n",
       "      <td>304816</td>\n",
       "      <td>308930</td>\n",
       "      <td>304851</td>\n",
       "    </tr>\n",
       "    <tr>\n",
       "      <th>2</th>\n",
       "      <td>304873</td>\n",
       "      <td>385850</td>\n",
       "      <td>332816</td>\n",
       "    </tr>\n",
       "    <tr>\n",
       "      <th>3</th>\n",
       "      <td>304911</td>\n",
       "      <td>310135</td>\n",
       "      <td>379454</td>\n",
       "    </tr>\n",
       "    <tr>\n",
       "      <th>4</th>\n",
       "      <td>304993</td>\n",
       "      <td>326717</td>\n",
       "      <td>348978</td>\n",
       "    </tr>\n",
       "    <tr>\n",
       "      <th>...</th>\n",
       "      <td>...</td>\n",
       "      <td>...</td>\n",
       "      <td>...</td>\n",
       "    </tr>\n",
       "    <tr>\n",
       "      <th>546</th>\n",
       "      <td>397336</td>\n",
       "      <td>348434</td>\n",
       "      <td>344683</td>\n",
       "    </tr>\n",
       "    <tr>\n",
       "      <th>547</th>\n",
       "      <td>397553</td>\n",
       "      <td>352327</td>\n",
       "      <td>373794</td>\n",
       "    </tr>\n",
       "    <tr>\n",
       "      <th>548</th>\n",
       "      <td>398012</td>\n",
       "      <td>326777</td>\n",
       "      <td>352829</td>\n",
       "    </tr>\n",
       "    <tr>\n",
       "      <th>549</th>\n",
       "      <td>398573</td>\n",
       "      <td>348567</td>\n",
       "      <td>359674</td>\n",
       "    </tr>\n",
       "    <tr>\n",
       "      <th>550</th>\n",
       "      <td>399796</td>\n",
       "      <td>325005</td>\n",
       "      <td>317382</td>\n",
       "    </tr>\n",
       "  </tbody>\n",
       "</table>\n",
       "<p>551 rows × 3 columns</p>\n",
       "</div>"
      ],
      "text/plain": [
       "     FolioId  largerclass_0group  largerclass_1group\n",
       "0     304773              371985              368960\n",
       "1     304816              308930              304851\n",
       "2     304873              385850              332816\n",
       "3     304911              310135              379454\n",
       "4     304993              326717              348978\n",
       "..       ...                 ...                 ...\n",
       "546   397336              348434              344683\n",
       "547   397553              352327              373794\n",
       "548   398012              326777              352829\n",
       "549   398573              348567              359674\n",
       "550   399796              325005              317382\n",
       "\n",
       "[551 rows x 3 columns]"
      ]
     },
     "execution_count": 56,
     "metadata": {},
     "output_type": "execute_result"
    },
    {
     "data": {
      "image/png": "[encoded data removed]",
      "text/plain": [
       "<Figure size 1000x800 with 1 Axes>"
      ]
     },
     "metadata": {},
     "output_type": "display_data"
    }
   ],
   "source": [
    "dict_escolar, dict_edociv, dict_lgbt, dict_ocup, dict_pais, dict_nivsoc  = dict_data(df_catescolar, df_catedociv, df_catlgbt, df_catocup, df_pais, df_nivsoc)\n",
    "df = mod_df(df_dataset)\n",
    "listexclude = gen_list(df_dataset)\n",
    "df_dataset = moddatagen(df_dataset)\n",
    "df = mod_data(df_dataset, dict_escolar, dict_edociv, dict_lgbt, dict_ocup, dict_pais, dict_nivsoc)\n",
    "psm = get_psm(df, listexclude)\n",
    "graf_psm(psm)\n",
    "psm.matched_ids"
   ]
  },
  {
   "cell_type": "code",
   "execution_count": 57,
   "metadata": {},
   "outputs": [],
   "source": [
    "def gen_newdf (df_matched_ids, df_dataset):\n",
    "    \"\"\"\n",
    "    Generate a new DataFrame with the matched ids\n",
    "    param: df_matched_ids, df_DataFrame\n",
    "    return: df_DataFrame\n",
    "    \"\"\"\n",
    "    df_matched = df_dataset[df_dataset['FolioId'].isin(df_matched_ids['FolioId'])]\n",
    "    df_matched = pd.concat([df_matched, df_dataset[df_dataset['FolioId'].isin(df_matched_ids['largerclass_0group'])]], axis= False)\n",
    "    df_matched = pd.concat([df_matched, df_dataset[df_dataset['FolioId'].isin(df_matched_ids['largerclass_1group'])]], axis= False)\n",
    "    return df_matched\n"
   ]
  },
  {
   "cell_type": "code",
   "execution_count": 58,
   "metadata": {},
   "outputs": [],
   "source": [
    "def applyregex(row, regex):\n",
    "    return any(re.search(regex,str(value))for value in row if value is not None)"
   ]
  },
  {
   "cell_type": "code",
   "execution_count": 61,
   "metadata": {},
   "outputs": [],
   "source": [
    "def drop_col (df):\n",
    "    for col in df.columns:\n",
    "        if col.startswith('Diag') or col.startswith('Trast'):\n",
    "            df.drop(columns=[col], axis=1, inplace=True) # Drop columns\n",
    "    return df"
   ]
  },
  {
   "cell_type": "code",
   "execution_count": 64,
   "metadata": {},
   "outputs": [],
   "source": [
    "def minertext (df, df_antfam, df_comorb, df_diag):\n",
    "    \n",
    "    for idx, row in df_antfam.iterrows():\n",
    "        regex = row['regex']\n",
    "        new_colum = row['varname']\n",
    "        df[new_colum] = df.apply(lambda row: applyregex(row,regex), axis=1).astype(int)\n",
    "\n",
    "    for idx, row in df_comorb.iterrows():\n",
    "        regex = row['regex']\n",
    "        new_colum = row['varname']\n",
    "        df[new_colum] = df.apply(lambda row: applyregex(row,regex), axis=1).astype(int)\n",
    "\n",
    "    for idx, row in df_diag.iterrows():\n",
    "        regex = row['regex']\n",
    "        new_colum = row['varname']\n",
    "        df[new_colum] = df.apply(lambda row: applyregex(row,regex), axis=1).astype(int)    \n",
    "        \n",
    "        #df = drop_col (df)\n",
    "    return df\n"
   ]
  },
  {
   "cell_type": "code",
   "execution_count": 65,
   "metadata": {},
   "outputs": [],
   "source": [
    "new_df = gen_newdf(psm.matched_ids, df_dataset)\n",
    "new_df.to_csv('results/MatchedData.csv', index=False)\n",
    "intent = minertext(new_df, df_antfam, df_comorb, df_diag)\n",
    "intent.to_csv('results/PsmRegex.csv')\n",
    "df_score = psm.df_matched\n",
    "df_score.to_csv('results/score-logit.csv')\n"
   ]
  }
 ],
 "metadata": {
  "kernelspec": {
   "display_name": ".venv",
   "language": "python",
   "name": "python3"
  },
  "language_info": {
   "codemirror_mode": {
    "name": "ipython",
    "version": 3
   },
   "file_extension": ".py",
   "mimetype": "text/x-python",
   "name": "python",
   "nbconvert_exporter": "python",
   "pygments_lexer": "ipython3",
   "version": "3.11.0"
  }
 },
 "nbformat": 4,
 "nbformat_minor": 2
}
